{
 "cells": [
  {
   "cell_type": "code",
   "execution_count": 6,
   "id": "08f58299-3dd5-43e2-aa91-517a6bf2c7e7",
   "metadata": {},
   "outputs": [
    {
     "name": "stdin",
     "output_type": "stream",
     "text": [
      "Введите строку:  расссмотреить\n"
     ]
    },
    {
     "name": "stdout",
     "output_type": "stream",
     "text": [
      "Количество символов в строке: 13\n"
     ]
    }
   ],
   "source": [
    "user_input = input(\"Введите строку: \")\n",
    "char_count = len(user_input)\n",
    "print(\"Количество символов в строке:\", char_count)\n"
   ]
  },
  {
   "cell_type": "code",
   "execution_count": 10,
   "id": "50c6c0b8-def9-43e5-8a18-967fc05edf19",
   "metadata": {},
   "outputs": [
    {
     "name": "stdout",
     "output_type": "stream",
     "text": [
      "Имя студента: Оля\n",
      "Возраст студента: 37\n",
      "Курс студента: 1\n"
     ]
    }
   ],
   "source": [
    "def print_student_info(student_info):\n",
    "    print(\"Имя студента:\", student_info.get(\"name\"))\n",
    "    print(\"Возраст студента:\", student_info.get(\"age\"))\n",
    "    print(\"Факультет:\", student_info.get(\"faculty\"))\n",
    "    print(\"Курс студента:\", student_info.get(\"course\"))\n",
    "\n",
    "student_data = {\"name\": \"Оля\",\"age\": 37,\"faculty\": эконо\"course\": 1}\n",
    "print_student_info(student_data)\n"
   ]
  }
 ],
 "metadata": {
  "kernelspec": {
   "display_name": "Python 3 (ipykernel)",
   "language": "python",
   "name": "python3"
  },
  "language_info": {
   "codemirror_mode": {
    "name": "ipython",
    "version": 3
   },
   "file_extension": ".py",
   "mimetype": "text/x-python",
   "name": "python",
   "nbconvert_exporter": "python",
   "pygments_lexer": "ipython3",
   "version": "3.11.5"
  }
 },
 "nbformat": 4,
 "nbformat_minor": 5
}
